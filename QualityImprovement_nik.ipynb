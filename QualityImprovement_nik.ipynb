{
 "cells": [
  {
   "cell_type": "code",
   "execution_count": 1,
   "metadata": {},
   "outputs": [],
   "source": [
    "from sklearn.datasets import load_boston\n",
    "from sklearn.model_selection import train_test_split\n",
    "from sklearn.model_selection import cross_val_score\n",
    "from sklearn.linear_model import LinearRegression\n",
    "from sklearn.linear_model import LogisticRegression\n",
    "from sklearn.svm import SVC\n",
    "from sklearn import linear_model\n",
    "from sklearn.preprocessing import StandardScaler\n",
    "\n",
    "from sklearn import metrics\n",
    "import matplotlib.pyplot as plt\n",
    "%matplotlib inline\n",
    "\n",
    "scaler = StandardScaler()"
   ]
  },
  {
   "cell_type": "code",
   "execution_count": 2,
   "metadata": {},
   "outputs": [],
   "source": [
    "# read in the boston data\n",
    "boston = load_boston()\n",
    "\n",
    "# create X (features) and y (response)\n",
    "X = boston.data\n",
    "y = boston.target"
   ]
  },
  {
   "cell_type": "code",
   "execution_count": 3,
   "metadata": {},
   "outputs": [],
   "source": [
    "X_scaled = scaler.fit_transform(X)"
   ]
  },
  {
   "cell_type": "markdown",
   "metadata": {},
   "source": [
    "Сделаем 20 train_test_split и обучим на них линейную регрессию"
   ]
  },
  {
   "cell_type": "code",
   "execution_count": 4,
   "metadata": {},
   "outputs": [
    {
     "name": "stdout",
     "output_type": "stream",
     "text": [
      "0.6313517698182836\n",
      "0.7665411962761505\n",
      "0.7069548490037507\n",
      "0.7952211104165686\n",
      "0.5524174631276202\n",
      "0.7211888011101624\n",
      "0.6797621822890589\n",
      "0.7747717043605336\n",
      "0.6766326577596451\n",
      "0.7025022682551472\n",
      "0.7045237489761564\n",
      "0.7152924523095854\n",
      "0.6957132836451716\n",
      "0.7372514678026695\n",
      "0.6942017347750398\n",
      "0.7082767671851242\n",
      "0.6982654756006619\n",
      "0.7802034703174175\n",
      "0.7643831562932338\n",
      "0.7570002236602128\n"
     ]
    }
   ],
   "source": [
    "for i in range(20):\n",
    "    X_tr, X_ts, y_tr, y_ts = train_test_split(X_scaled,y)\n",
    "    LinReg = linear_model.Ridge(alpha=.5)\n",
    "    LinReg.fit(X_tr, y_tr)\n",
    "    print(LinReg.score(X_ts,y_ts))"
   ]
  },
  {
   "cell_type": "markdown",
   "metadata": {},
   "source": [
    "Сделаем cross_val_score для линейной регрессии"
   ]
  },
  {
   "cell_type": "code",
   "execution_count": 5,
   "metadata": {},
   "outputs": [],
   "source": [
    "LinReg = linear_model.Ridge(alpha=.5)"
   ]
  },
  {
   "cell_type": "code",
   "execution_count": 6,
   "metadata": {},
   "outputs": [],
   "source": [
    "scores = cross_val_score(LinReg, X_scaled, y, cv = 15, scoring = 'r2')"
   ]
  },
  {
   "cell_type": "code",
   "execution_count": 7,
   "metadata": {},
   "outputs": [
    {
     "name": "stdout",
     "output_type": "stream",
     "text": [
      "[ 0.70287233  0.61563019  0.54506132 -0.39637516  0.70863892  0.56943636\n",
      "  0.59534301  0.72436293  0.71834026  0.29708026 -0.61405258 -3.77013277\n",
      " -0.272625    0.17900129  0.44657987]\n"
     ]
    }
   ],
   "source": [
    "print(scores)"
   ]
  },
  {
   "cell_type": "code",
   "execution_count": 8,
   "metadata": {},
   "outputs": [
    {
     "name": "stdout",
     "output_type": "stream",
     "text": [
      "0.06994408143131806\n"
     ]
    }
   ],
   "source": [
    "print(scores.mean())"
   ]
  },
  {
   "cell_type": "markdown",
   "metadata": {},
   "source": [
    "GridSerch CV"
   ]
  },
  {
   "cell_type": "code",
   "execution_count": 9,
   "metadata": {},
   "outputs": [],
   "source": [
    "from sklearn.model_selection import GridSearchCV"
   ]
  },
  {
   "cell_type": "code",
   "execution_count": 10,
   "metadata": {},
   "outputs": [
    {
     "name": "stdout",
     "output_type": "stream",
     "text": [
      "[100, 101, 102, 103, 104, 105, 106, 107, 108, 109, 110, 111, 112, 113, 114, 115, 116, 117, 118, 119, 120, 121, 122, 123, 124, 125, 126, 127, 128, 129, 130]\n"
     ]
    }
   ],
   "source": [
    "# define the parameter values that should be searched\n",
    "n_alpha = list(range(100,131))\n",
    "print(n_alpha)"
   ]
  },
  {
   "cell_type": "code",
   "execution_count": 11,
   "metadata": {},
   "outputs": [
    {
     "name": "stdout",
     "output_type": "stream",
     "text": [
      "{'alpha': [100, 101, 102, 103, 104, 105, 106, 107, 108, 109, 110, 111, 112, 113, 114, 115, 116, 117, 118, 119, 120, 121, 122, 123, 124, 125, 126, 127, 128, 129, 130]}\n"
     ]
    }
   ],
   "source": [
    "# create a parameter grid: map the parameter names to the values that should be searched\n",
    "# simply a python dictionary\n",
    "# key: parameter name\n",
    "# value: list of values that should be searched for that parameter\n",
    "# single key-value pair for param_grid\n",
    "param_grid = dict(alpha = n_alpha)\n",
    "print(param_grid)"
   ]
  },
  {
   "cell_type": "code",
   "execution_count": 12,
   "metadata": {},
   "outputs": [],
   "source": [
    "# instantiate the grid\n",
    "grid = GridSearchCV(LinReg, param_grid, cv=10, scoring='r2')"
   ]
  },
  {
   "cell_type": "markdown",
   "metadata": {},
   "source": [
    "Полученный объект будет перебирать параметр appha регрессии Ridge, делать кросс-валидацию и оценивать качество, используя accuracy в качестве метрики"
   ]
  },
  {
   "cell_type": "code",
   "execution_count": 13,
   "metadata": {},
   "outputs": [
    {
     "data": {
      "text/plain": [
       "GridSearchCV(cv=10, estimator=Ridge(alpha=0.5),\n",
       "             param_grid={'alpha': [100, 101, 102, 103, 104, 105, 106, 107, 108,\n",
       "                                   109, 110, 111, 112, 113, 114, 115, 116, 117,\n",
       "                                   118, 119, 120, 121, 122, 123, 124, 125, 126,\n",
       "                                   127, 128, 129, ...]},\n",
       "             scoring='r2')"
      ]
     },
     "execution_count": 13,
     "metadata": {},
     "output_type": "execute_result"
    }
   ],
   "source": [
    "# fit the grid with data\n",
    "grid.fit(X_scaled, y)"
   ]
  },
  {
   "cell_type": "code",
   "execution_count": 14,
   "metadata": {},
   "outputs": [
    {
     "name": "stdout",
     "output_type": "stream",
     "text": [
      "mean_fit_time : 0.00034148693084716796\n",
      "std_fit_time : 0.00011727843834195321\n",
      "mean_score_time : 0.0001714944839477539\n",
      "std_score_time : 1.6486106010069695e-05\n",
      "param_alpha : 100\n",
      "params : {'alpha': 100}\n",
      "split0_test_score : 0.7687998902500116\n",
      "split1_test_score : 0.6105136297340357\n",
      "split2_test_score : -0.005370365651535813\n",
      "split3_test_score : 0.5343455284815981\n",
      "split4_test_score : 0.5818305740565478\n",
      "split5_test_score : 0.6553488718519493\n",
      "split6_test_score : 0.3919504706334689\n",
      "split7_test_score : 0.08527761367819064\n",
      "split8_test_score : -0.5993597989395074\n",
      "split9_test_score : 0.5431660821727619\n",
      "mean_test_score : 0.35665024962675207\n",
      "std_test_score : 0.39503267046707347\n",
      "rank_test_score : 26\n"
     ]
    }
   ],
   "source": [
    "# view the complete results (list of named tuples)\n",
    "for k in grid.cv_results_:\n",
    "    print(k, \":\", grid.cv_results_[k][0])"
   ]
  },
  {
   "cell_type": "code",
   "execution_count": 15,
   "metadata": {},
   "outputs": [
    {
     "name": "stdout",
     "output_type": "stream",
     "text": [
      "[0.35665025 0.35674133 0.35682382 0.3568979  0.35696375 0.35702153\n",
      " 0.35707142 0.35711357 0.35714816 0.35717532 0.35719521 0.35720798\n",
      " 0.35721377 0.35721272 0.35720496 0.35719063 0.35716986 0.35714276\n",
      " 0.35710947 0.3570701  0.35702477 0.3569736  0.35691669 0.35685415\n",
      " 0.35678609 0.35671261 0.35663382 0.3565498  0.35646067 0.3563665\n",
      " 0.35626741]\n"
     ]
    }
   ],
   "source": [
    "# create a list of the mean scores only\n",
    "test_scores = grid.cv_results_['mean_test_score']\n",
    "print(test_scores)"
   ]
  },
  {
   "cell_type": "code",
   "execution_count": 16,
   "metadata": {},
   "outputs": [
    {
     "data": {
      "text/plain": [
       "Text(0, 0.5, 'Cross-Validated Accuracy')"
      ]
     },
     "execution_count": 16,
     "metadata": {},
     "output_type": "execute_result"
    },
    {
     "data": {
      "image/png": "[encoded data removed]",
      "text/plain": [
       "<Figure size 432x288 with 1 Axes>"
      ]
     },
     "metadata": {
      "needs_background": "light"
     },
     "output_type": "display_data"
    }
   ],
   "source": [
    "# plot the results\n",
    "# this is identical to the one we generated above\n",
    "plt.plot(n_alpha, test_scores)\n",
    "plt.xlabel('Value of alpha for Ridge')\n",
    "plt.ylabel('Cross-Validated Accuracy')"
   ]
  },
  {
   "cell_type": "code",
   "execution_count": 17,
   "metadata": {},
   "outputs": [
    {
     "name": "stdout",
     "output_type": "stream",
     "text": [
      "0.3572137727709621\n",
      "{'alpha': 112}\n",
      "Ridge(alpha=112)\n"
     ]
    }
   ],
   "source": [
    "# examine the best model\n",
    "\n",
    "# Single best score achieved across all params (k)\n",
    "print(grid.best_score_)\n",
    "\n",
    "# Dictionary containing the parameters (k) used to generate that score\n",
    "print(grid.best_params_)\n",
    "\n",
    "# Actual model object fit with those best parameters\n",
    "# Shows default parameters that we did not specify\n",
    "print(grid.best_estimator_)"
   ]
  },
  {
   "cell_type": "markdown",
   "metadata": {},
   "source": [
    "Randomized SearchCV"
   ]
  },
  {
   "cell_type": "code",
   "execution_count": 18,
   "metadata": {},
   "outputs": [],
   "source": [
    "from sklearn.model_selection import RandomizedSearchCV"
   ]
  },
  {
   "cell_type": "code",
   "execution_count": 19,
   "metadata": {},
   "outputs": [
    {
     "name": "stdout",
     "output_type": "stream",
     "text": [
      "[100, 101, 102, 103, 104, 105, 106, 107, 108, 109, 110, 111, 112, 113, 114, 115, 116, 117, 118, 119, 120, 121, 122, 123, 124, 125, 126, 127, 128, 129, 130]\n"
     ]
    }
   ],
   "source": [
    "# define the parameter values that should be searched\n",
    "n_alpha = list(range(100,131))\n",
    "print(n_alpha)"
   ]
  },
  {
   "cell_type": "code",
   "execution_count": 20,
   "metadata": {},
   "outputs": [
    {
     "name": "stdout",
     "output_type": "stream",
     "text": [
      "{'alpha': [100, 101, 102, 103, 104, 105, 106, 107, 108, 109, 110, 111, 112, 113, 114, 115, 116, 117, 118, 119, 120, 121, 122, 123, 124, 125, 126, 127, 128, 129, 130]}\n"
     ]
    }
   ],
   "source": [
    "# create a parameter grid: map the parameter names to the values that should be searched\n",
    "# simply a python dictionary\n",
    "# key: parameter name\n",
    "# value: list of values that should be searched for that parameter\n",
    "# single key-value pair for param_grid\n",
    "param_grid = dict(alpha = n_alpha)\n",
    "print(param_grid)"
   ]
  },
  {
   "cell_type": "code",
   "execution_count": 21,
   "metadata": {},
   "outputs": [],
   "source": [
    "# instantiate the grid\n",
    "grid = RandomizedSearchCV(LinReg, param_grid, cv=10, scoring='r2')"
   ]
  },
  {
   "cell_type": "code",
   "execution_count": 22,
   "metadata": {},
   "outputs": [
    {
     "data": {
      "text/plain": [
       "RandomizedSearchCV(cv=10, estimator=Ridge(alpha=0.5),\n",
       "                   param_distributions={'alpha': [100, 101, 102, 103, 104, 105,\n",
       "                                                  106, 107, 108, 109, 110, 111,\n",
       "                                                  112, 113, 114, 115, 116, 117,\n",
       "                                                  118, 119, 120, 121, 122, 123,\n",
       "                                                  124, 125, 126, 127, 128, 129, ...]},\n",
       "                   scoring='r2')"
      ]
     },
     "execution_count": 22,
     "metadata": {},
     "output_type": "execute_result"
    }
   ],
   "source": [
    "# fit the grid with data\n",
    "grid.fit(X_scaled, y)"
   ]
  },
  {
   "cell_type": "code",
   "execution_count": 23,
   "metadata": {},
   "outputs": [
    {
     "name": "stdout",
     "output_type": "stream",
     "text": [
      "mean_fit_time : 0.0003200054168701172\n",
      "std_fit_time : 8.66905034965372e-05\n",
      "mean_score_time : 0.00016570091247558594\n",
      "std_score_time : 1.3116055917856914e-05\n",
      "param_alpha : 111\n",
      "params : {'alpha': 111}\n",
      "split0_test_score : 0.7641908778250298\n",
      "split1_test_score : 0.6121779575017892\n",
      "split2_test_score : 0.019728145505336303\n",
      "split3_test_score : 0.5236483859916343\n",
      "split4_test_score : 0.5791029385097995\n",
      "split5_test_score : 0.6442962238649097\n",
      "split6_test_score : 0.3790410207897217\n",
      "split7_test_score : 0.09530465025763679\n",
      "split8_test_score : -0.5901561357837242\n",
      "split9_test_score : 0.5447457647460187\n",
      "mean_test_score : 0.35720798292081524\n",
      "std_test_score : 0.38802526628383555\n",
      "rank_test_score : 1\n"
     ]
    }
   ],
   "source": [
    "# view the complete results (list of named tuples)\n",
    "for k in grid.cv_results_:\n",
    "    print(k, \":\", grid.cv_results_[k][0])"
   ]
  },
  {
   "cell_type": "code",
   "execution_count": 24,
   "metadata": {},
   "outputs": [
    {
     "name": "stdout",
     "output_type": "stream",
     "text": [
      "[0.35720798 0.35674133 0.35626741 0.35691669 0.3568979  0.35696375\n",
      " 0.35678609 0.35685415 0.3563665  0.35711357]\n"
     ]
    }
   ],
   "source": [
    "# create a list of the mean scores only\n",
    "test_scores = grid.cv_results_['mean_test_score']\n",
    "print(test_scores)"
   ]
  },
  {
   "cell_type": "code",
   "execution_count": 25,
   "metadata": {},
   "outputs": [
    {
     "name": "stdout",
     "output_type": "stream",
     "text": [
      "0.35720798292081524\n",
      "{'alpha': 111}\n",
      "Ridge(alpha=111)\n"
     ]
    }
   ],
   "source": [
    "# examine the best model\n",
    "\n",
    "# Single best score achieved across all params (k)\n",
    "print(grid.best_score_)\n",
    "\n",
    "# Dictionary containing the parameters (k) used to generate that score\n",
    "print(grid.best_params_)\n",
    "\n",
    "# Actual model object fit with those best parameters\n",
    "# Shows default parameters that we did not specify\n",
    "print(grid.best_estimator_)"
   ]
  },
  {
   "cell_type": "markdown",
   "metadata": {},
   "source": [
    "Видим, что RandomizedSearchCV и GridSearchCV дали похожие результаты для значения alpha 114 и 112"
   ]
  },
  {
   "cell_type": "markdown",
   "metadata": {},
   "source": [
    "OOB Score"
   ]
  },
  {
   "cell_type": "code",
   "execution_count": 26,
   "metadata": {},
   "outputs": [],
   "source": [
    "from sklearn.ensemble import RandomForestRegressor\n",
    "import numpy as np"
   ]
  },
  {
   "cell_type": "code",
   "execution_count": 27,
   "metadata": {},
   "outputs": [],
   "source": [
    "X_train, X_valid, y_train, y_valid = train_test_split(X_scaled, y, test_size=0.2)"
   ]
  },
  {
   "cell_type": "code",
   "execution_count": 28,
   "metadata": {},
   "outputs": [],
   "source": [
    "regressor = RandomForestRegressor(oob_score=True, n_estimators=20, max_depth=5)"
   ]
  },
  {
   "cell_type": "code",
   "execution_count": 29,
   "metadata": {},
   "outputs": [
    {
     "data": {
      "text/plain": [
       "RandomForestRegressor(max_depth=5, n_estimators=20, oob_score=True)"
      ]
     },
     "execution_count": 29,
     "metadata": {},
     "output_type": "execute_result"
    }
   ],
   "source": [
    "regressor.fit(X_train, y_train)"
   ]
  },
  {
   "cell_type": "code",
   "execution_count": 30,
   "metadata": {},
   "outputs": [
    {
     "name": "stdout",
     "output_type": "stream",
     "text": [
      "0.8287444335695895\n",
      "0.870766975946211\n"
     ]
    }
   ],
   "source": [
    "print(regressor.oob_score_)\n",
    "print(regressor.score(X_valid,y_valid))"
   ]
  }
 ],
 "metadata": {
  "kernelspec": {
   "display_name": "Python 3",
   "language": "python",
   "name": "python3"
  },
  "language_info": {
   "codemirror_mode": {
    "name": "ipython",
    "version": 3
   },
   "file_extension": ".py",
   "mimetype": "text/x-python",
   "name": "python",
   "nbconvert_exporter": "python",
   "pygments_lexer": "ipython3",
   "version": "3.8.5"
  }
 },
 "nbformat": 4,
 "nbformat_minor": 4
}
